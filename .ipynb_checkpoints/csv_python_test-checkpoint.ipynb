{
 "metadata": {
  "name": "",
  "signature": "sha256:3376bb81be63e2f61391a7659f6758adfd2bba7007722399e7ccb199fd0a6c79"
 },
 "nbformat": 3,
 "nbformat_minor": 0,
 "worksheets": [
  {
   "cells": [
    {
     "cell_type": "code",
     "collapsed": false,
     "input": [
      "%matplotlib inline\n",
      "import matplotlib.pyplot as plt\n",
      "#plt.plot(range(10))"
     ],
     "language": "python",
     "metadata": {},
     "outputs": [],
     "prompt_number": 7
    },
    {
     "cell_type": "markdown",
     "metadata": {},
     "source": [
      "Files are **bookings.csv** and **searches.csv**\n",
      "These files should be put in the same directory as this iPython notebook to be able to run the code."
     ]
    },
    {
     "cell_type": "heading",
     "level": 1,
     "metadata": {},
     "source": [
      "First problem"
     ]
    },
    {
     "cell_type": "markdown",
     "metadata": {},
     "source": [
      "Count the number of lines in Python for each file"
     ]
    },
    {
     "cell_type": "code",
     "collapsed": false,
     "input": [
      "import sys\n",
      "def count_lines(fname):\n",
      "    \"\"\"\n",
      "    input:\n",
      "    fname(string): Name of the file to be processed\n",
      "    \n",
      "    output:\n",
      "    i(int): number of lines in the file\n",
      "    \n",
      "    if the file could not be opened/found/read, returns 0 after displaying an error message on stderr\n",
      "    \"\"\"\n",
      "    i=-1\n",
      "    try:\n",
      "        with open(fname) as f:\n",
      "            for i, l in enumerate(f, 0):\n",
      "                pass\n",
      "    except:\n",
      "        i=-1\n",
      "        print(\"File '\", str(fname), \"' could not be read.\", sep=\"\", file=sys.stderr)\n",
      "    return i + 1"
     ],
     "language": "python",
     "metadata": {},
     "outputs": [],
     "prompt_number": 8
    },
    {
     "cell_type": "code",
     "collapsed": false,
     "input": [
      "print(\"File bookings.csv has\", count_lines(\"bookings.csv\"), \"lines.\")"
     ],
     "language": "python",
     "metadata": {},
     "outputs": [
      {
       "output_type": "stream",
       "stream": "stdout",
       "text": [
        "File bookings.csv has 10000011 lines.\n"
       ]
      }
     ],
     "prompt_number": 9
    },
    {
     "cell_type": "code",
     "collapsed": false,
     "input": [
      "print(\"File searches.csv has\", count_lines(\"searches.csv\"), \"lines.\")"
     ],
     "language": "python",
     "metadata": {},
     "outputs": [
      {
       "output_type": "stream",
       "stream": "stdout",
       "text": [
        "File searches.csv has 20390199 lines.\n"
       ]
      }
     ],
     "prompt_number": 10
    },
    {
     "cell_type": "heading",
     "level": 1,
     "metadata": {},
     "source": [
      "Second problem"
     ]
    },
    {
     "cell_type": "markdown",
     "metadata": {},
     "source": [
      "Top 10 arrival airports in the world in 2013 (using the bookings file)\n",
      "\n",
      "Arrival airport is the column arr_port. It is the IATA code for the airport\n",
      "\n",
      "To get the total number of passengers for an airport, you can sum the column pax, grouping by arr_port.\n",
      "\n",
      "Note that there is negative pax. That corresponds to cancelations. So to get the total number of passengers that have actually booked, you should sum including the negatives (that will remove the canceled bookings).\n",
      "\n",
      "Print the top 10 arrival airports in the standard output, including the number of passengers.\n",
      "\n",
      "**Bonus point**: Get the name of the city or airport corresponding to that airport (programatically, we suggest to have a look at GeoBases in Github)\n",
      "\n",
      "**Bonus point**: Solve this problem using pandas (instead of any other approach)"
     ]
    },
    {
     "cell_type": "code",
     "collapsed": true,
     "input": [
      "with open(\"bookings.csv\") as f:\n",
      "    print(f.readline())"
     ],
     "language": "python",
     "metadata": {},
     "outputs": [
      {
       "output_type": "stream",
       "stream": "stdout",
       "text": [
        "act_date           ^source^pos_ctry^pos_iata^pos_oid  ^rloc          ^cre_date           ^duration^distance^dep_port^dep_city^dep_ctry^arr_port^arr_city^arr_ctry^lst_port^lst_city^lst_ctry^brd_port^brd_city^brd_ctry^off_port^off_city^off_ctry^mkt_port^mkt_city^mkt_ctry^intl^route          ^carrier^bkg_class^cab_class^brd_time           ^off_time           ^pax^year^month^oid      \n",
        "\n"
       ]
      }
     ],
     "prompt_number": 13
    },
    {
     "cell_type": "code",
     "collapsed": true,
     "input": [
      "with open(\"bookings.csv\") as f:\n",
      "    line=f.readline().replace(\" \",\"\").split(\"^\")\n",
      "    for i in range(0,len(line),11):\n",
      "        print(\"\".join(w.ljust(12) for w in line[i:i+11]))"
     ],
     "language": "python",
     "metadata": {},
     "outputs": [
      {
       "output_type": "stream",
       "stream": "stdout",
       "text": [
        "act_date    source      pos_ctry    pos_iata    pos_oid     rloc        cre_date    duration    distance    dep_port    dep_city    \n",
        "dep_ctry    arr_port    arr_city    arr_ctry    lst_port    lst_city    lst_ctry    brd_port    brd_city    brd_ctry    off_port    \n",
        "off_city    off_ctry    mkt_port    mkt_city    mkt_ctry    intl        route       carrier     bkg_class   cab_class   brd_time    \n",
        "off_time    pax         year        month       oid\n",
        "        \n"
       ]
      }
     ],
     "prompt_number": 62
    },
    {
     "cell_type": "code",
     "collapsed": false,
     "input": [
      "import pandas as pd\n",
      "# reading the complete csv file consumes more than 7GB of RAM, so we'll only get the relevant columns for excercise 2\n",
      "bookings = pd.read_csv(\"bookings.csv\", sep=\"^\", usecols=['pax','arr_port'])\n",
      "b = bookings.dropna()"
     ],
     "language": "python",
     "metadata": {},
     "outputs": [],
     "prompt_number": 106
    },
    {
     "cell_type": "code",
     "collapsed": false,
     "input": [
      "b.groupby([\"arr_port\"]).sum().pax.order(ascending=False).head(10)"
     ],
     "language": "python",
     "metadata": {},
     "outputs": [
      {
       "metadata": {},
       "output_type": "pyout",
       "prompt_number": 109,
       "text": [
        "arr_port\n",
        "LHR         88809\n",
        "MCO         70930\n",
        "LAX         70530\n",
        "LAS         69630\n",
        "JFK         66270\n",
        "CDG         64490\n",
        "BKK         59460\n",
        "MIA         58150\n",
        "SFO         58000\n",
        "DXB         55590\n",
        "Name: pax, dtype: float64"
       ]
      }
     ],
     "prompt_number": 109
    },
    {
     "cell_type": "heading",
     "level": 1,
     "metadata": {},
     "source": [
      "Third problem"
     ]
    },
    {
     "cell_type": "markdown",
     "metadata": {},
     "source": [
      "plot the monthly number of searches for flights arriving at M\u00e1laga, Madrid or Barcelona\n",
      "For the arriving airport, you can use the Destination column in the searches file. Plot a curve for M\u00e1laga, another one for Madrid, and another one for Barcelona, in the same figure. Bonus point: Solving this problem using pandas (instead of any other approach)"
     ]
    },
    {
     "cell_type": "code",
     "collapsed": false,
     "input": [],
     "language": "python",
     "metadata": {},
     "outputs": []
    },
    {
     "cell_type": "heading",
     "level": 1,
     "metadata": {},
     "source": [
      "Bonus problem 1 "
     ]
    },
    {
     "cell_type": "markdown",
     "metadata": {},
     "source": [
      "match searches with bookings\n",
      "For every search in the searches file, find out whether the search ended up in a booking or not (using the info in the bookings file). For instance, search and booking origin and destination should match. For the bookings file, origin and destination are the columns dep_port and arr_port, respectively. Generate a CSV file with the search data, and an additional field, containing 1 if the search ended up in a booking, and 0 otherwise."
     ]
    },
    {
     "cell_type": "code",
     "collapsed": false,
     "input": [],
     "language": "python",
     "metadata": {},
     "outputs": []
    },
    {
     "cell_type": "heading",
     "level": 1,
     "metadata": {},
     "source": [
      "Bonus problem 2 "
     ]
    },
    {
     "cell_type": "markdown",
     "metadata": {},
     "source": [
      "write a Web Service\n",
      "Wrap the output of the second exercise in a web service that returns the data in JSON format (instead of printing to the standard output). The web service should accept a parameter n>0. For the top 10 airports, n is 10. For the X top airports, n is X."
     ]
    },
    {
     "cell_type": "code",
     "collapsed": false,
     "input": [],
     "language": "python",
     "metadata": {},
     "outputs": []
    }
   ],
   "metadata": {}
  }
 ]
}