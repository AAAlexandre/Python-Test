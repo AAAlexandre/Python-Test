{
 "metadata": {
  "name": "",
  "signature": "sha256:dce5d7d6f00eccdf580b73b371343887d79f72f2fe432f155f24fcef580e96c6"
 },
 "nbformat": 3,
 "nbformat_minor": 0,
 "worksheets": [
  {
   "cells": [
    {
     "cell_type": "code",
     "collapsed": false,
     "input": [
      "%matplotlib inline\n",
      "import matplotlib.pyplot as plt\n",
      "#plt.plot(range(10))"
     ],
     "language": "python",
     "metadata": {},
     "outputs": [],
     "prompt_number": 1
    },
    {
     "cell_type": "markdown",
     "metadata": {},
     "source": [
      "Files are **bookings.csv** and **searches.csv**\n",
      "These files should be put in the same directory as this iPython notebook to be able to run the code.\n",
      "\n",
      "**First exercise**: count the number of lines in Python for each file\n",
      " \n",
      "\n",
      "**Second exercise**: top 10 arrival airports in the world in 2013 (using the bookings file)\n",
      "Arrival airport is the column arr_port. It is the IATA code for the airport\n",
      "To get the total number of passengers for an airport, you can sum the column pax, grouping by arr_port. Note that there is negative pax. That corresponds to cancelations. So to get the total number of passengers that have actually booked, you should sum including the negatives (that will remove the canceled bookings).\n",
      "Print the top 10 arrival airports in the standard output, including the number of passengers.\n",
      "\n",
      "**Bonus point**: Get the name of the city or airport corresponding to that airport (programatically, we suggest to have a look at GeoBases in Github)\n",
      "\n",
      "**Bonus point**: Solve this problem using pandas (instead of any other approach)\n",
      "\n",
      "\n",
      "**Third exercise**: plot the monthly number of searches for flights arriving at M\u00e1laga, Madrid or Barcelona\n",
      "For the arriving airport, you can use the Destination column in the searches file. Plot a curve for M\u00e1laga, another one for Madrid, and another one for Barcelona, in the same figure. Bonus point: Solving this problem using pandas (instead of any other approach)\n",
      "\n",
      "\n",
      "**Bonus exercise**: match searches with bookings\n",
      "For every search in the searches file, find out whether the search ended up in a booking or not (using the info in the bookings file). For instance, search and booking origin and destination should match. For the bookings file, origin and destination are the columns dep_port and arr_port, respectively. Generate a CSV file with the search data, and an additional field, containing 1 if the search ended up in a booking, and 0 otherwise.\n",
      "\n",
      "\n",
      "**Bonus exercise**: write a Web Service\n",
      "Wrap the output of the second exercise in a web service that returns the data in JSON format (instead of printing to the standard output). The web service should accept a parameter n>0. For the top 10 airports, n is 10. For the X top airports, n is X.\n"
     ]
    },
    {
     "cell_type": "code",
     "collapsed": false,
     "input": [
      "import sys\n",
      "def count_lines(fname):\n",
      "    \"\"\"\n",
      "    input:\n",
      "    fname(string): Name of the file to be processed\n",
      "    \n",
      "    output:\n",
      "    i(int): number of lines in the file\n",
      "    \n",
      "    if the file could not be opened/found/read, returns 0 after displaying an error message on stderr\n",
      "    \"\"\"\n",
      "    i=-1\n",
      "    try:\n",
      "        with open(fname) as f:\n",
      "            for i, l in enumerate(f, 0):\n",
      "                pass\n",
      "    except:\n",
      "        i=-1\n",
      "        print(\"File '\" + str(fname) + \"' could not be read.\", file=sys.stderr)\n",
      "    return i + 1"
     ],
     "language": "python",
     "metadata": {},
     "outputs": [],
     "prompt_number": 2
    },
    {
     "cell_type": "code",
     "collapsed": false,
     "input": [
      "print(\"File bookings.csv has\", count_lines(\"bookings.csv\"), \"lines.\")"
     ],
     "language": "python",
     "metadata": {},
     "outputs": [
      {
       "output_type": "stream",
       "stream": "stdout",
       "text": [
        "File bookings.csv has 10000011 lines.\n"
       ]
      }
     ],
     "prompt_number": 3
    },
    {
     "cell_type": "code",
     "collapsed": false,
     "input": [
      "print(\"File searches.csv has\", count_lines(\"searches.csv\"), \"lines.\")"
     ],
     "language": "python",
     "metadata": {},
     "outputs": [
      {
       "output_type": "stream",
       "stream": "stdout",
       "text": [
        "File searches.csv has 20390199 lines.\n"
       ]
      }
     ],
     "prompt_number": 4
    }
   ],
   "metadata": {}
  }
 ]
}