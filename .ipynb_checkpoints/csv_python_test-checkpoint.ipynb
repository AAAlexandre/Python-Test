{
 "metadata": {
  "name": "",
  "signature": "sha256:3963db9354881a0717f1382cf4f833a301545ea253d386b6ef9ee3648708f948"
 },
 "nbformat": 3,
 "nbformat_minor": 0,
 "worksheets": [
  {
   "cells": [
    {
     "cell_type": "markdown",
     "metadata": {},
     "source": [
      "Files are **bookings.csv** and **searches.csv**\n",
      "These files should be put in the same directory as this iPython notebook to be able to run the code."
     ]
    },
    {
     "cell_type": "heading",
     "level": 1,
     "metadata": {},
     "source": [
      "First problem"
     ]
    },
    {
     "cell_type": "markdown",
     "metadata": {},
     "source": [
      "Count the number of lines in Python for each file"
     ]
    },
    {
     "cell_type": "code",
     "collapsed": false,
     "input": [
      "import sys\n",
      "def count_lines(fname):\n",
      "    \"\"\"\n",
      "    input:\n",
      "    fname(string): Name of the file to be processed\n",
      "    \n",
      "    output:\n",
      "    i(int): number of lines in the file\n",
      "    \n",
      "    if the file could not be opened/found/read, returns 0 after displaying an error message on stderr\n",
      "    \"\"\"\n",
      "    i=-1\n",
      "    try:\n",
      "        with open(fname) as f:\n",
      "            for i, l in enumerate(f, 0):\n",
      "                pass\n",
      "    except:\n",
      "        i=-1\n",
      "        print(\"File '\", str(fname), \"' could not be read.\", sep=\"\", file=sys.stderr)\n",
      "    return i + 1"
     ],
     "language": "python",
     "metadata": {},
     "outputs": [],
     "prompt_number": 1
    },
    {
     "cell_type": "code",
     "collapsed": false,
     "input": [
      "print(\"File bookings.csv has\", count_lines(\"bookings.csv\"), \"lines.\")"
     ],
     "language": "python",
     "metadata": {},
     "outputs": [
      {
       "output_type": "stream",
       "stream": "stdout",
       "text": [
        "File bookings.csv has 10000011 lines.\n"
       ]
      }
     ],
     "prompt_number": 2
    },
    {
     "cell_type": "code",
     "collapsed": false,
     "input": [
      "print(\"File searches.csv has\", count_lines(\"searches.csv\"), \"lines.\")"
     ],
     "language": "python",
     "metadata": {},
     "outputs": [
      {
       "output_type": "stream",
       "stream": "stdout",
       "text": [
        "File searches.csv has 20390199 lines.\n"
       ]
      }
     ],
     "prompt_number": 3
    },
    {
     "cell_type": "heading",
     "level": 1,
     "metadata": {},
     "source": [
      "Second problem"
     ]
    },
    {
     "cell_type": "markdown",
     "metadata": {},
     "source": [
      "Top 10 arrival airports in the world in 2013 (using the bookings file)\n",
      "\n",
      "Arrival airport is the column arr_port. It is the IATA code for the airport\n",
      "\n",
      "To get the total number of passengers for an airport, you can sum the column pax, grouping by arr_port.\n",
      "\n",
      "Note that there is negative pax. That corresponds to cancelations. So to get the total number of passengers that have actually booked, you should sum including the negatives (that will remove the canceled bookings).\n",
      "\n",
      "Print the top 10 arrival airports in the standard output, including the number of passengers.\n",
      "\n",
      "**Bonus point**: Get the name of the city or airport corresponding to that airport (programatically, we suggest to have a look at GeoBases in Github)\n",
      "\n",
      "**Bonus point**: Solve this problem using pandas (instead of any other approach)"
     ]
    },
    {
     "cell_type": "code",
     "collapsed": true,
     "input": [
      "with open(\"bookings.csv\") as f:\n",
      "    print(f.readline())"
     ],
     "language": "python",
     "metadata": {},
     "outputs": [
      {
       "output_type": "stream",
       "stream": "stdout",
       "text": [
        "act_date           ^source^pos_ctry^pos_iata^pos_oid  ^rloc          ^cre_date           ^duration^distance^dep_port^dep_city^dep_ctry^arr_port^arr_city^arr_ctry^lst_port^lst_city^lst_ctry^brd_port^brd_city^brd_ctry^off_port^off_city^off_ctry^mkt_port^mkt_city^mkt_ctry^intl^route          ^carrier^bkg_class^cab_class^brd_time           ^off_time           ^pax^year^month^oid      \n",
        "\n"
       ]
      }
     ],
     "prompt_number": 4
    },
    {
     "cell_type": "code",
     "collapsed": true,
     "input": [
      "with open(\"bookings.csv\") as f:\n",
      "    line=f.readline().replace(\" \",\"\").split(\"^\")\n",
      "    for i in range(0,len(line),11):\n",
      "        print(\"\".join(w.ljust(12) for w in line[i:i+11]))"
     ],
     "language": "python",
     "metadata": {},
     "outputs": [
      {
       "output_type": "stream",
       "stream": "stdout",
       "text": [
        "act_date    source      pos_ctry    pos_iata    pos_oid     rloc        cre_date    duration    distance    dep_port    dep_city    \n",
        "dep_ctry    arr_port    arr_city    arr_ctry    lst_port    lst_city    lst_ctry    brd_port    brd_city    brd_ctry    off_port    \n",
        "off_city    off_ctry    mkt_port    mkt_city    mkt_ctry    intl        route       carrier     bkg_class   cab_class   brd_time    \n",
        "off_time    pax         year        month       oid\n",
        "        \n"
       ]
      }
     ],
     "prompt_number": 5
    },
    {
     "cell_type": "code",
     "collapsed": false,
     "input": [
      "import pandas as pd\n",
      "# reading the complete csv file consumes more than 7GB of RAM, so we'll only get the relevant columns for excercise 2\n",
      "bookings = pd.read_csv(\"bookings.csv\", sep=\"^\", usecols=['pax','arr_port'])\n",
      "b = bookings.dropna()"
     ],
     "language": "python",
     "metadata": {},
     "outputs": [],
     "prompt_number": 6
    },
    {
     "cell_type": "code",
     "collapsed": false,
     "input": [
      "b.groupby([\"arr_port\"]).sum().pax.order(ascending=False).head(10)"
     ],
     "language": "python",
     "metadata": {},
     "outputs": [
      {
       "metadata": {},
       "output_type": "pyout",
       "prompt_number": 7,
       "text": [
        "arr_port\n",
        "LHR         88809\n",
        "MCO         70930\n",
        "LAX         70530\n",
        "LAS         69630\n",
        "JFK         66270\n",
        "CDG         64490\n",
        "BKK         59460\n",
        "MIA         58150\n",
        "SFO         58000\n",
        "DXB         55590\n",
        "Name: pax, dtype: float64"
       ]
      }
     ],
     "prompt_number": 7
    },
    {
     "cell_type": "heading",
     "level": 1,
     "metadata": {},
     "source": [
      "Third problem"
     ]
    },
    {
     "cell_type": "markdown",
     "metadata": {},
     "source": [
      "Plot the monthly number of searches for flights arriving at M\u00e1laga, Madrid or Barcelona\n",
      "For the arriving airport, you can use the Destination column in the searches file. Plot a curve for M\u00e1laga, another one for Madrid, and another one for Barcelona, in the same figure. Bonus point: Solving this problem using pandas (instead of any other approach)"
     ]
    },
    {
     "cell_type": "code",
     "collapsed": false,
     "input": [
      "with open(\"searches.csv\") as f:\n",
      "    line=f.readline().replace(\" \",\"\").split(\"^\")\n",
      "    for i in range(0,len(line),7):\n",
      "        print(\"\".join(w.ljust(18) for w in line[i:i+7]))"
     ],
     "language": "python",
     "metadata": {},
     "outputs": [
      {
       "output_type": "stream",
       "stream": "stdout",
       "text": [
        "Date              Time              TxnCode           OfficeID          Country           Origin            Destination       \n",
        "RoundTrip         NbSegments        Seg1Departure     Seg1Arrival       Seg1Date          Seg1Carrier       Seg1BookingCode   \n",
        "Seg2Departure     Seg2Arrival       Seg2Date          Seg2Carrier       Seg2BookingCode   Seg3Departure     Seg3Arrival       \n",
        "Seg3Date          Seg3Carrier       Seg3BookingCode   Seg4Departure     Seg4Arrival       Seg4Date          Seg4Carrier       \n",
        "Seg4BookingCode   Seg5Departure     Seg5Arrival       Seg5Date          Seg5Carrier       Seg5BookingCode   Seg6Departure     \n",
        "Seg6Arrival       Seg6Date          Seg6Carrier       Seg6BookingCode   From              IsPublishedForNeg IsFromInternet    \n",
        "IsFromVista       TerminalID        InternetOffice\n",
        "   \n"
       ]
      }
     ],
     "prompt_number": 8
    },
    {
     "cell_type": "code",
     "collapsed": false,
     "input": [
      "import pandas as pd\n",
      "s = pd.read_csv(\"searches.csv\", sep=\"^\", usecols=['Date','Destination']).dropna()\n",
      "s['number_of_searches'] = [1]*len(s)\n",
      "filtered = s[s['Destination'].str.match(r'AGP|MAD|BCN')]\n",
      "del s\n",
      "filtered.index = pd.to_datetime(filtered.pop('Date'))\n",
      "data = filtered.groupby('Destination').resample('M', how=['sum'])"
     ],
     "language": "python",
     "metadata": {},
     "outputs": [],
     "prompt_number": 9
    },
    {
     "cell_type": "code",
     "collapsed": false,
     "input": [
      "data"
     ],
     "language": "python",
     "metadata": {},
     "outputs": [
      {
       "html": [
        "<div style=\"max-height:1000px;max-width:1500px;overflow:auto;\">\n",
        "<table border=\"1\" class=\"dataframe\">\n",
        "  <thead>\n",
        "    <tr>\n",
        "      <th></th>\n",
        "      <th></th>\n",
        "      <th>number_of_searches</th>\n",
        "    </tr>\n",
        "    <tr>\n",
        "      <th></th>\n",
        "      <th></th>\n",
        "      <th>sum</th>\n",
        "    </tr>\n",
        "    <tr>\n",
        "      <th>Destination</th>\n",
        "      <th>Date</th>\n",
        "      <th></th>\n",
        "    </tr>\n",
        "  </thead>\n",
        "  <tbody>\n",
        "    <tr>\n",
        "      <th rowspan=\"12\" valign=\"top\">AGP</th>\n",
        "      <th>2013-01-31</th>\n",
        "      <td>  9633</td>\n",
        "    </tr>\n",
        "    <tr>\n",
        "      <th>2013-02-28</th>\n",
        "      <td>  8379</td>\n",
        "    </tr>\n",
        "    <tr>\n",
        "      <th>2013-03-31</th>\n",
        "      <td> 10659</td>\n",
        "    </tr>\n",
        "    <tr>\n",
        "      <th>2013-04-30</th>\n",
        "      <td>  8265</td>\n",
        "    </tr>\n",
        "    <tr>\n",
        "      <th>2013-05-31</th>\n",
        "      <td> 10830</td>\n",
        "    </tr>\n",
        "    <tr>\n",
        "      <th>2013-06-30</th>\n",
        "      <td>  7923</td>\n",
        "    </tr>\n",
        "    <tr>\n",
        "      <th>2013-07-31</th>\n",
        "      <td>  8892</td>\n",
        "    </tr>\n",
        "    <tr>\n",
        "      <th>2013-08-31</th>\n",
        "      <td>  7866</td>\n",
        "    </tr>\n",
        "    <tr>\n",
        "      <th>2013-09-30</th>\n",
        "      <td>  8151</td>\n",
        "    </tr>\n",
        "    <tr>\n",
        "      <th>2013-10-31</th>\n",
        "      <td>  6499</td>\n",
        "    </tr>\n",
        "    <tr>\n",
        "      <th>2013-11-30</th>\n",
        "      <td>  6384</td>\n",
        "    </tr>\n",
        "    <tr>\n",
        "      <th>2013-12-31</th>\n",
        "      <td>  3696</td>\n",
        "    </tr>\n",
        "    <tr>\n",
        "      <th rowspan=\"12\" valign=\"top\">BCN</th>\n",
        "      <th>2013-01-31</th>\n",
        "      <td> 29469</td>\n",
        "    </tr>\n",
        "    <tr>\n",
        "      <th>2013-02-28</th>\n",
        "      <td> 28329</td>\n",
        "    </tr>\n",
        "    <tr>\n",
        "      <th>2013-03-31</th>\n",
        "      <td> 30552</td>\n",
        "    </tr>\n",
        "    <tr>\n",
        "      <th>2013-04-30</th>\n",
        "      <td> 31236</td>\n",
        "    </tr>\n",
        "    <tr>\n",
        "      <th>2013-05-31</th>\n",
        "      <td> 28728</td>\n",
        "    </tr>\n",
        "    <tr>\n",
        "      <th>2013-06-30</th>\n",
        "      <td> 26505</td>\n",
        "    </tr>\n",
        "    <tr>\n",
        "      <th>2013-07-31</th>\n",
        "      <td> 29241</td>\n",
        "    </tr>\n",
        "    <tr>\n",
        "      <th>2013-08-31</th>\n",
        "      <td> 27075</td>\n",
        "    </tr>\n",
        "    <tr>\n",
        "      <th>2013-09-30</th>\n",
        "      <td> 23427</td>\n",
        "    </tr>\n",
        "    <tr>\n",
        "      <th>2013-10-31</th>\n",
        "      <td> 20276</td>\n",
        "    </tr>\n",
        "    <tr>\n",
        "      <th>2013-11-30</th>\n",
        "      <td> 19824</td>\n",
        "    </tr>\n",
        "    <tr>\n",
        "      <th>2013-12-31</th>\n",
        "      <td> 15400</td>\n",
        "    </tr>\n",
        "    <tr>\n",
        "      <th rowspan=\"12\" valign=\"top\">MAD</th>\n",
        "      <th>2013-01-31</th>\n",
        "      <td> 24258</td>\n",
        "    </tr>\n",
        "    <tr>\n",
        "      <th>2013-02-28</th>\n",
        "      <td> 22800</td>\n",
        "    </tr>\n",
        "    <tr>\n",
        "      <th>2013-03-31</th>\n",
        "      <td> 24681</td>\n",
        "    </tr>\n",
        "    <tr>\n",
        "      <th>2013-04-30</th>\n",
        "      <td> 25251</td>\n",
        "    </tr>\n",
        "    <tr>\n",
        "      <th>2013-05-31</th>\n",
        "      <td> 26334</td>\n",
        "    </tr>\n",
        "    <tr>\n",
        "      <th>2013-06-30</th>\n",
        "      <td> 22800</td>\n",
        "    </tr>\n",
        "    <tr>\n",
        "      <th>2013-07-31</th>\n",
        "      <td> 22971</td>\n",
        "    </tr>\n",
        "    <tr>\n",
        "      <th>2013-08-31</th>\n",
        "      <td> 21831</td>\n",
        "    </tr>\n",
        "    <tr>\n",
        "      <th>2013-09-30</th>\n",
        "      <td> 21147</td>\n",
        "    </tr>\n",
        "    <tr>\n",
        "      <th>2013-10-31</th>\n",
        "      <td> 22294</td>\n",
        "    </tr>\n",
        "    <tr>\n",
        "      <th>2013-11-30</th>\n",
        "      <td> 20272</td>\n",
        "    </tr>\n",
        "    <tr>\n",
        "      <th>2013-12-31</th>\n",
        "      <td> 14504</td>\n",
        "    </tr>\n",
        "  </tbody>\n",
        "</table>\n",
        "</div>"
       ],
       "metadata": {},
       "output_type": "pyout",
       "prompt_number": 10,
       "text": [
        "                       number_of_searches\n",
        "                                      sum\n",
        "Destination Date                         \n",
        "AGP         2013-01-31               9633\n",
        "            2013-02-28               8379\n",
        "            2013-03-31              10659\n",
        "            2013-04-30               8265\n",
        "            2013-05-31              10830\n",
        "            2013-06-30               7923\n",
        "            2013-07-31               8892\n",
        "            2013-08-31               7866\n",
        "            2013-09-30               8151\n",
        "            2013-10-31               6499\n",
        "            2013-11-30               6384\n",
        "            2013-12-31               3696\n",
        "BCN         2013-01-31              29469\n",
        "            2013-02-28              28329\n",
        "            2013-03-31              30552\n",
        "            2013-04-30              31236\n",
        "            2013-05-31              28728\n",
        "            2013-06-30              26505\n",
        "            2013-07-31              29241\n",
        "            2013-08-31              27075\n",
        "            2013-09-30              23427\n",
        "            2013-10-31              20276\n",
        "            2013-11-30              19824\n",
        "            2013-12-31              15400\n",
        "MAD         2013-01-31              24258\n",
        "            2013-02-28              22800\n",
        "            2013-03-31              24681\n",
        "            2013-04-30              25251\n",
        "            2013-05-31              26334\n",
        "            2013-06-30              22800\n",
        "            2013-07-31              22971\n",
        "            2013-08-31              21831\n",
        "            2013-09-30              21147\n",
        "            2013-10-31              22294\n",
        "            2013-11-30              20272\n",
        "            2013-12-31              14504"
       ]
      }
     ],
     "prompt_number": 10
    },
    {
     "cell_type": "code",
     "collapsed": false,
     "input": [
      "%matplotlib inline\n",
      "import matplotlib.pyplot as plt\n",
      "import matplotlib.dates as mdates"
     ],
     "language": "python",
     "metadata": {},
     "outputs": [],
     "prompt_number": 11
    },
    {
     "cell_type": "code",
     "collapsed": false,
     "input": [
      "fig, ax = plt.subplots()\n",
      "agp = data.loc['AGP']\n",
      "bcn = data.loc['BCN']\n",
      "mad = data.loc['MAD']\n",
      "ax.plot(agp.index, agp)\n",
      "ax.plot(mad.index, mad)\n",
      "ax.plot(bcn.index, bcn)\n",
      "ax.xaxis.set_major_formatter(mdates.DateFormatter('%m'))"
     ],
     "language": "python",
     "metadata": {},
     "outputs": [
      {
       "metadata": {},
       "output_type": "display_data",
       "png": "[encoded data removed]",
       "text": [
        "<matplotlib.figure.Figure at 0x32699f60>"
       ]
      }
     ],
     "prompt_number": 12
    },
    {
     "cell_type": "markdown",
     "metadata": {},
     "source": [
      "I have a slight axis problem, due to matplotlib treating the last day of a month as the first day of the next month..."
     ]
    },
    {
     "cell_type": "heading",
     "level": 1,
     "metadata": {},
     "source": [
      "Bonus problem 1 "
     ]
    },
    {
     "cell_type": "markdown",
     "metadata": {},
     "source": [
      "Match searches with bookings\n",
      "For every search in the searches file, find out whether the search ended up in a booking or not (using the info in the bookings file). For instance, search and booking origin and destination should match. For the bookings file, origin and destination are the columns dep_port and arr_port, respectively. Generate a CSV file with the search data, and an additional field, containing 1 if the search ended up in a booking, and 0 otherwise."
     ]
    },
    {
     "cell_type": "code",
     "collapsed": false,
     "input": [],
     "language": "python",
     "metadata": {},
     "outputs": []
    },
    {
     "cell_type": "heading",
     "level": 1,
     "metadata": {},
     "source": [
      "Bonus problem 2 "
     ]
    },
    {
     "cell_type": "markdown",
     "metadata": {},
     "source": [
      "Write a Web Service\n",
      "Wrap the output of the second exercise in a web service that returns the data in JSON format (instead of printing to the standard output). The web service should accept a parameter n>0. For the top 10 airports, n is 10. For the X top airports, n is X."
     ]
    },
    {
     "cell_type": "code",
     "collapsed": false,
     "input": [],
     "language": "python",
     "metadata": {},
     "outputs": []
    }
   ],
   "metadata": {}
  }
 ]
}